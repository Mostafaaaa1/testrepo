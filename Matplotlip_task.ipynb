{
 "cells": [
  {
   "cell_type": "markdown",
   "id": "809e1f05",
   "metadata": {},
   "source": [
    "# Matplotlip task"
   ]
  },
  {
   "cell_type": "markdown",
   "id": "4e2803ae",
   "metadata": {},
   "source": []
  },
  {
   "cell_type": "markdown",
   "id": "f2f83c91",
   "metadata": {},
   "source": [
    "### Create a histogram for a dataset with random values between 0 and 100 .\n"
   ]
  },
  {
   "cell_type": "code",
   "execution_count": null,
   "id": "7a196ae4",
   "metadata": {},
   "outputs": [],
   "source": []
  },
  {
   "cell_type": "code",
   "execution_count": null,
   "id": "2f0dcd44",
   "metadata": {},
   "outputs": [],
   "source": []
  },
  {
   "cell_type": "markdown",
   "id": "3bf44bc9",
   "metadata": {},
   "source": [
    "###  Create a bar plot comparing sales data for 4 different products.\n"
   ]
  },
  {
   "cell_type": "code",
   "execution_count": null,
   "id": "2fa8d29d",
   "metadata": {},
   "outputs": [],
   "source": []
  },
  {
   "cell_type": "code",
   "execution_count": null,
   "id": "be5e71d3",
   "metadata": {},
   "outputs": [],
   "source": []
  },
  {
   "cell_type": "markdown",
   "id": "9ec38632",
   "metadata": {},
   "source": [
    "###  Create a scatter plot with random points\n"
   ]
  },
  {
   "cell_type": "code",
   "execution_count": null,
   "id": "69b403ce",
   "metadata": {},
   "outputs": [],
   "source": []
  },
  {
   "cell_type": "code",
   "execution_count": null,
   "id": "7a273191",
   "metadata": {},
   "outputs": [],
   "source": []
  },
  {
   "cell_type": "markdown",
   "id": "1a737123",
   "metadata": {},
   "source": [
    "### Generate a heatmap for a 6x6 matrix of random numbers.\n"
   ]
  },
  {
   "cell_type": "code",
   "execution_count": null,
   "id": "d01edebd",
   "metadata": {},
   "outputs": [],
   "source": []
  },
  {
   "cell_type": "code",
   "execution_count": null,
   "id": "32ebfe2d",
   "metadata": {},
   "outputs": [],
   "source": []
  },
  {
   "cell_type": "markdown",
   "id": "63221ba8",
   "metadata": {},
   "source": [
    "### Create a pie chart showing the distribution of expenses across 5 categories.\n"
   ]
  },
  {
   "cell_type": "code",
   "execution_count": null,
   "id": "434831d4",
   "metadata": {},
   "outputs": [],
   "source": []
  },
  {
   "cell_type": "code",
   "execution_count": null,
   "id": "31844d86",
   "metadata": {},
   "outputs": [],
   "source": []
  }
 ],
 "metadata": {
  "kernelspec": {
   "display_name": "Python 3 (ipykernel)",
   "language": "python",
   "name": "python3"
  },
  "language_info": {
   "codemirror_mode": {
    "name": "ipython",
    "version": 3
   },
   "file_extension": ".py",
   "mimetype": "text/x-python",
   "name": "python",
   "nbconvert_exporter": "python",
   "pygments_lexer": "ipython3",
   "version": "3.11.5"
  },
  "varInspector": {
   "cols": {
    "lenName": 16,
    "lenType": 16,
    "lenVar": 40
   },
   "kernels_config": {
    "python": {
     "delete_cmd_postfix": "",
     "delete_cmd_prefix": "del ",
     "library": "var_list.py",
     "varRefreshCmd": "print(var_dic_list())"
    },
    "r": {
     "delete_cmd_postfix": ") ",
     "delete_cmd_prefix": "rm(",
     "library": "var_list.r",
     "varRefreshCmd": "cat(var_dic_list()) "
    }
   },
   "types_to_exclude": [
    "module",
    "function",
    "builtin_function_or_method",
    "instance",
    "_Feature"
   ],
   "window_display": false
  }
 },
 "nbformat": 4,
 "nbformat_minor": 5
}
